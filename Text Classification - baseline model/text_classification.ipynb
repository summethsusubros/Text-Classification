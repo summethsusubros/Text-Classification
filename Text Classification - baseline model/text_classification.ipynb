{
  "nbformat": 4,
  "nbformat_minor": 0,
  "metadata": {
    "colab": {
      "name": "text_classification.ipynb",
      "provenance": [],
      "collapsed_sections": []
    },
    "kernelspec": {
      "name": "python3",
      "display_name": "Python 3"
    },
    "accelerator": "TPU"
  },
  "cells": [
    {
      "cell_type": "code",
      "metadata": {
        "id": "NHdlRQ5GYF7b",
        "colab_type": "code",
        "colab": {}
      },
      "source": [
        "#Importing required libraries.\n",
        "import numpy as np \n",
        "import pandas as pd \n",
        "import re\n",
        "import nltk\n",
        "from nltk.corpus import stopwords \n",
        "from nltk.tokenize import regexp_tokenize \n",
        "from nltk.tokenize.treebank import TreebankWordDetokenizer\n",
        "nltk.download('punkt')\n",
        "nltk.download('stopwords')\n",
        "\n",
        "import scipy.sparse\n",
        "\n",
        "from sklearn.feature_extraction.text import TfidfVectorizer, CountVectorizer\n",
        "from sklearn import model_selection, preprocessing, linear_model, naive_bayes, metrics, svm ,ensemble\n",
        "import xgboost"
      ],
      "execution_count": 0,
      "outputs": []
    },
    {
      "cell_type": "markdown",
      "metadata": {
        "id": "DIL1tgz-3ch4",
        "colab_type": "text"
      },
      "source": [
        "STEP-1:Importing the dataset and preprocessing\n"
      ]
    },
    {
      "cell_type": "code",
      "metadata": {
        "id": "yqn_JJryZbbN",
        "colab_type": "code",
        "colab": {}
      },
      "source": [
        "#LoadingS the dataset\n",
        "dataset=pd.read_csv('IMDB Dataset.csv')"
      ],
      "execution_count": 0,
      "outputs": []
    },
    {
      "cell_type": "code",
      "metadata": {
        "id": "ENk3DGOKWaAk",
        "colab_type": "code",
        "colab": {}
      },
      "source": [
        "len(dataset)"
      ],
      "execution_count": 0,
      "outputs": []
    },
    {
      "cell_type": "code",
      "metadata": {
        "id": "2RcWWLpr1Vau",
        "colab_type": "code",
        "colab": {}
      },
      "source": [
        "#Preprocessing the text data\n",
        "def preprocessor (dataframe_column):\n",
        "  #converting the text to lower case.\n",
        "  dataframe_column=dataframe_column.map(lambda s : s.lower())\n",
        "  #Tokenizing the text data.\n",
        "  dataframe_column=dataframe_column.map(lambda s : regexp_tokenize(s,\"[a-zA-Z_']+\") )\n",
        "  #Removing the stop words.\n",
        "  stop_words = set(stopwords.words('english')) \n",
        "  dataframe_column=dataframe_column.map(lambda s : [w for w in s if not w in stop_words])\n",
        "  #Detokenizing the tokens to fprm the text data.\n",
        "  dataframe_column=dataframe_column.map(lambda s : TreebankWordDetokenizer().detokenize(s))\n",
        "  return dataframe_column"
      ],
      "execution_count": 0,
      "outputs": []
    },
    {
      "cell_type": "code",
      "metadata": {
        "id": "DQ7tovPi1c1n",
        "colab_type": "code",
        "colab": {}
      },
      "source": [
        "dataset['review']=preprocessor(dataset['review'])"
      ],
      "execution_count": 0,
      "outputs": []
    },
    {
      "cell_type": "markdown",
      "metadata": {
        "id": "p8c8cti_8z7r",
        "colab_type": "text"
      },
      "source": [
        "STEP-2:Feature engineering"
      ]
    },
    {
      "cell_type": "code",
      "metadata": {
        "id": "hyNRtatI2Ud0",
        "colab_type": "code",
        "colab": {}
      },
      "source": [
        "#Splitting the dataset into train and test datasets.\n",
        "from sklearn.model_selection import  train_test_split\n",
        "x_train, x_test, y_train, y_test = train_test_split(dataset['review'], dataset['sentiment'], test_size=0.5, random_state=63)"
      ],
      "execution_count": 0,
      "outputs": []
    },
    {
      "cell_type": "code",
      "metadata": {
        "id": "vdmC-hm73AMd",
        "colab_type": "code",
        "colab": {}
      },
      "source": [
        "#The features created here are in word level.\n",
        "#Character level features can also be created,by simply changing the analyzer argument from 'word' to 'char'.\n",
        "#First feature-count vectors.\n",
        "#Converting the text data into count vectors using CountVectorizer.\n",
        "count_vectorizer = CountVectorizer(analyzer='word', token_pattern=r'\\w{1,}')\n",
        "count_vectorizer.fit_transform(x_train)\n",
        "\n",
        "xtrain_count =  count_vectorizer.transform(x_train)\n",
        "xtest_count =  count_vectorizer.transform(x_test)\n"
      ],
      "execution_count": 0,
      "outputs": []
    },
    {
      "cell_type": "code",
      "metadata": {
        "id": "j1NiIURC3Lh4",
        "colab_type": "code",
        "colab": {}
      },
      "source": [
        "#Second feature-Tf-idf vectors\n",
        "#Converting the text data into tf-idf vectors using TfidfVectorizers\n",
        "tfidf_vectorizer = TfidfVectorizer(analyzer='word', token_pattern=r'\\w{1,}')\n",
        "tfidf_vectorizer.fit(x_train)\n",
        "\n",
        "xtrain_tfidf =  tfidf_vectorizer.transform(x_train)\n",
        "xtest_tfidf =  tfidf_vectorizer.transform(x_test)"
      ],
      "execution_count": 0,
      "outputs": []
    },
    {
      "cell_type": "code",
      "metadata": {
        "id": "LutathM6EIJq",
        "colab_type": "code",
        "colab": {}
      },
      "source": [
        "#Third feature-Count vectors with n-gram\n",
        "count_vectorizer_ngram = CountVectorizer(analyzer='word', token_pattern=r'\\w{1,}', ngram_range=(2,3))\n",
        "count_vectorizer_ngram.fit_transform(x_train)\n",
        "\n",
        "xtrain_count_ngram =  count_vectorizer_ngram.transform(x_train)\n",
        "xtest_count_ngram =  count_vectorizer_ngram.transform(x_test)\n"
      ],
      "execution_count": 0,
      "outputs": []
    },
    {
      "cell_type": "code",
      "metadata": {
        "id": "x4naQY963MS1",
        "colab_type": "code",
        "colab": {}
      },
      "source": [
        "#Fourth feature-Tf-idf vectors with n-grams\n",
        "tfidf_vectorizer_ngram = TfidfVectorizer(analyzer='word', token_pattern=r'\\w{1,}', ngram_range=(2,3))\n",
        "tfidf_vectorizer_ngram.fit(x_train)\n",
        "\n",
        "xtrain_tfidf_ngram =  tfidf_vectorizer_ngram.transform(x_train)\n",
        "xtest_tfidf_ngram =  tfidf_vectorizer_ngram.transform(x_test)"
      ],
      "execution_count": 0,
      "outputs": []
    },
    {
      "cell_type": "code",
      "metadata": {
        "id": "RE9M4HHVF3B6",
        "colab_type": "code",
        "colab": {}
      },
      "source": [
        "#For training the model with two or more features, horizontal stack method is used.\n",
        "X_train_combined_feature = scipy.sparse.hstack([xtrain_tfidf, xtrain_count])\n",
        "X_test_combined_feature = scipy.sparse.hstack([xtestd_tfidf, xtest_count])"
      ],
      "execution_count": 0,
      "outputs": []
    },
    {
      "cell_type": "markdown",
      "metadata": {
        "id": "hEJQDxlF-y1M",
        "colab_type": "text"
      },
      "source": [
        "STEP-3:Buildimg the model and evaluating metrics(F1-score)"
      ]
    },
    {
      "cell_type": "code",
      "metadata": {
        "id": "wNJDKQwW4XrR",
        "colab_type": "code",
        "colab": {}
      },
      "source": [
        "#Defining a function which returns the F1-score getting the classifier model, and the features as its arguments\n",
        "def model_f1_score(classifier, train_vector, train_label, test_vector, test_label):\n",
        "    classifier.fit(train_vector, train_label)\n",
        "    predictions = classifier.predict(test_vector)\n",
        "\n",
        "    encoder = preprocessing.LabelEncoder()\n",
        "    predictions = encoder.fit_transform(predictions)\n",
        "    test_label = encoder.fit_transform(test_label)\n",
        "    f1_score = metrics.f1_score(test_label,predictions)\n",
        "    print('f1_score = ' + str(f1_score))"
      ],
      "execution_count": 0,
      "outputs": []
    },
    {
      "cell_type": "markdown",
      "metadata": {
        "id": "pukNSsYE_d9K",
        "colab_type": "text"
      },
      "source": [
        "STEP-4:Training each models and getting their F1-scores"
      ]
    },
    {
      "cell_type": "code",
      "metadata": {
        "id": "t8Mw0vVq7IQ5",
        "colab_type": "code",
        "colab": {}
      },
      "source": [
        "#It is known that Tf-idf vectors give better results than count vectors and n-gram tf-idf vectors.\n",
        "#Models are trained using only Tf-idf vectors.\n",
        "#Model 1-Logistic Regression\n",
        "model_f1_score(linear_model.LogisticRegression(), xtrain_tfidf, y_train, xtest_tfidf, y_test)"
      ],
      "execution_count": 0,
      "outputs": []
    },
    {
      "cell_type": "code",
      "metadata": {
        "id": "N0QlEFUN7JOC",
        "colab_type": "code",
        "colab": {}
      },
      "source": [
        "#Model 2-Stochastic Gradient Descent (SGD) Classifier.\n",
        "model_f1_score(linear_model.SGDClassifier(), xtrain_tfidf, y_train, xtest_tfidf, y_test)"
      ],
      "execution_count": 0,
      "outputs": []
    },
    {
      "cell_type": "code",
      "metadata": {
        "id": "IgSRrgTr7MHG",
        "colab_type": "code",
        "colab": {}
      },
      "source": [
        "#Model 3-Random Forest Classifier.\n",
        "model_f1_score(ensemble.RandomForestClassifier(), xtrain_tfidf, y_train, xtest_tfidf, y_test)"
      ],
      "execution_count": 0,
      "outputs": []
    },
    {
      "cell_type": "code",
      "metadata": {
        "id": "Zr2nA_4Z7QEZ",
        "colab_type": "code",
        "colab": {}
      },
      "source": [
        "#Model 4-XG-Boost Classifier.\n",
        "model_f1_score(xgboost.XGBClassifier(), xtrain_tfidf, y_train, xtest_tfidf, y_test)"
      ],
      "execution_count": 0,
      "outputs": []
    },
    {
      "cell_type": "code",
      "metadata": {
        "id": "MYCgKakW_JlD",
        "colab_type": "code",
        "colab": {}
      },
      "source": [
        "#Model 5-Support Vectror Machine (SVM) Classifier.\n",
        "model_f1_score(svm.SVC(), xtrain_tfidf, y_train, xtest_tfidf, y_test)"
      ],
      "execution_count": 0,
      "outputs": []
    }
  ]
}